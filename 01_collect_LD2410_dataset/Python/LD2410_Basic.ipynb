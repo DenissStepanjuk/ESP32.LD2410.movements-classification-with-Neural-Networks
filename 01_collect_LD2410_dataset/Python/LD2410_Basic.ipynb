{
 "cells": [
  {
   "cell_type": "markdown",
   "id": "eaaf8757-cea6-494b-a67c-9623ff62eea9",
   "metadata": {},
   "source": [
    "# LD2410\n",
    "### Подготовил: Степанюк Денис Борисович"
   ]
  },
  {
   "cell_type": "code",
   "execution_count": null,
   "id": "2aee15c8-1b1e-4af8-97b5-c25de53431ad",
   "metadata": {},
   "outputs": [],
   "source": [
    "#!pip install ld2410\n",
    "#!pip install pyserial"
   ]
  },
  {
   "cell_type": "code",
   "execution_count": 1,
   "id": "f2850848-869c-4da8-b3c9-6dd4d67e0b23",
   "metadata": {},
   "outputs": [],
   "source": [
    "from  LD2410  import *\n",
    "import time"
   ]
  },
  {
   "cell_type": "markdown",
   "id": "0cce7410-9cd0-4aac-96a5-753f8cc67599",
   "metadata": {},
   "source": [
    "#### Подключим датчик"
   ]
  },
  {
   "cell_type": "code",
   "execution_count": 2,
   "id": "5301e710-e9d9-4aaf-8ebb-ebb5d3716427",
   "metadata": {},
   "outputs": [
    {
     "name": "stderr",
     "output_type": "stream",
     "text": [
      "INFO:root:Serial port initialised at COM3, with baud rate 256000\n",
      "INFO:root:Enabling engineering mode\n",
      "DEBUG:root:Sending data:  fd fc fb fa 04 00 ff 00 01 00 04 03 02 01\n",
      "DEBUG:root:Received data: fd fc fb fa 08 00 ff 01 00 00 01 00 40 00 04 03 02 01\n",
      "DEBUG:root:Sending data:  fd fc fb fa 02 00 62 00 04 03 02 01\n",
      "DEBUG:root:Received data: fd fc fb fa 04 00 62 01 00 00 04 03 02 01\n",
      "DEBUG:root:Sending data:  fd fc fb fa 02 00 fe 00 04 03 02 01\n",
      "DEBUG:root:Received data: fd fc fb fa 04 00 fe 01 00 00 04 03 02 01 f4 f3 f2 f1 23 00 01 aa 03 49 00 64 47 00 64 30 00 08 08 61 64 52 0c 09 06 06 06 03 00 00 64 64 49 2c 26 28 1e 59 01 55 00 f8 f7 f6 f5 f4 f3 f2 f1 23\n"
     ]
    }
   ],
   "source": [
    "# Инициализируем экземпляр обьекта подключённого к датчику LD2410.\n",
    "radar = LD2410(port=\"COM3\") # COM port можно посмотреть в диспетчере устройств.\n",
    "\n",
    "radar.enable_engineering_mode() # Переводим датчик в инженерный режим чтоб получить полный обьём данных"
   ]
  },
  {
   "cell_type": "markdown",
   "id": "32efb7d5-fdb5-4570-b51b-f344278710c1",
   "metadata": {},
   "source": [
    "#### Получим данные с датчика"
   ]
  },
  {
   "cell_type": "code",
   "execution_count": 16,
   "id": "194d36d5-6780-455a-8d3d-c99d9283614c",
   "metadata": {},
   "outputs": [
    {
     "name": "stderr",
     "output_type": "stream",
     "text": [
      "INFO:root:Radar polling started\n"
     ]
    }
   ],
   "source": [
    "# Запустим датчик, перед тем как начать опрашивать его.\n",
    "radar.start()"
   ]
  },
  {
   "cell_type": "code",
   "execution_count": 9,
   "id": "bc78a642-42db-4e60-a2ff-e25d909c3533",
   "metadata": {},
   "outputs": [],
   "source": [
    "import numpy as np\n",
    "\n",
    "def radar_capture(depth = 15):\n",
    "    #radar.ser.close()\n",
    "    #radar.ser.open()\n",
    "    #radar.restart_module()\n",
    "    #radar.start() # Запустим датчик, перед тем как начать опрашивать его.\n",
    "    \n",
    "    data_origin = [] # Список для записи данных с датчика.\n",
    "    \n",
    "    # Получим 5 векторов данныз с датчика:\n",
    "    for _ in range(depth):\n",
    "        frame = radar.get_data() # Примем данные с датчика.\n",
    "        print(frame) # Выведем данные в консоль.\n",
    "        data_origin.append(frame) # Запишем их в общий список.\n",
    "        time.sleep(1) # Задержка.\n",
    "        \n",
    "    #radar.stop() # Остановим датчик.\n",
    "    return data_origin"
   ]
  },
  {
   "cell_type": "code",
   "execution_count": 15,
   "id": "bbbbbe6c-1ba4-460b-ba70-39c4befbccdf",
   "metadata": {},
   "outputs": [
    {
     "name": "stderr",
     "output_type": "stream",
     "text": [
      "INFO:root:Radar polling stopped\n"
     ]
    }
   ],
   "source": [
    "radar.stop() # Остановим датчик."
   ]
  },
  {
   "cell_type": "code",
   "execution_count": 17,
   "id": "7909a0fb-2454-40bc-9afb-0cc6f9c8b961",
   "metadata": {},
   "outputs": [
    {
     "name": "stderr",
     "output_type": "stream",
     "text": [
      "DEBUG:root:get_data returning ([3, 76, 100, 30, 100, 46], [8, 95, 100, 100, 13, 9, 14, 2, 3, 8], [0, 0, 100, 100, 100, 87, 73, 35, 28, 90])\n"
     ]
    },
    {
     "name": "stdout",
     "output_type": "stream",
     "text": [
      "([3, 76, 100, 30, 100, 46], [8, 95, 100, 100, 13, 9, 14, 2, 3, 8], [0, 0, 100, 100, 100, 87, 73, 35, 28, 90])\n"
     ]
    },
    {
     "name": "stderr",
     "output_type": "stream",
     "text": [
      "DEBUG:root:get_data returning ([3, 76, 100, 30, 100, 46], [8, 95, 100, 100, 13, 9, 14, 2, 3, 8], [0, 0, 100, 100, 100, 87, 73, 35, 28, 90])\n"
     ]
    },
    {
     "name": "stdout",
     "output_type": "stream",
     "text": [
      "([3, 76, 100, 30, 100, 46], [8, 95, 100, 100, 13, 9, 14, 2, 3, 8], [0, 0, 100, 100, 100, 87, 73, 35, 28, 90])\n"
     ]
    },
    {
     "name": "stderr",
     "output_type": "stream",
     "text": [
      "DEBUG:root:get_data returning ([3, 76, 100, 30, 100, 46], [8, 95, 100, 100, 13, 9, 14, 2, 3, 8], [0, 0, 100, 100, 100, 87, 73, 35, 28, 90])\n"
     ]
    },
    {
     "name": "stdout",
     "output_type": "stream",
     "text": [
      "([3, 76, 100, 30, 100, 46], [8, 95, 100, 100, 13, 9, 14, 2, 3, 8], [0, 0, 100, 100, 100, 87, 73, 35, 28, 90])\n"
     ]
    },
    {
     "name": "stderr",
     "output_type": "stream",
     "text": [
      "DEBUG:root:get_data returning ([3, 76, 100, 30, 100, 46], [8, 95, 100, 100, 13, 9, 14, 2, 3, 8], [0, 0, 100, 100, 100, 87, 73, 35, 28, 90])\n"
     ]
    },
    {
     "name": "stdout",
     "output_type": "stream",
     "text": [
      "([3, 76, 100, 30, 100, 46], [8, 95, 100, 100, 13, 9, 14, 2, 3, 8], [0, 0, 100, 100, 100, 87, 73, 35, 28, 90])\n"
     ]
    },
    {
     "name": "stderr",
     "output_type": "stream",
     "text": [
      "DEBUG:root:get_data returning ([3, 76, 100, 30, 100, 46], [8, 95, 100, 100, 13, 9, 14, 2, 3, 8], [0, 0, 100, 100, 100, 87, 73, 35, 28, 90])\n"
     ]
    },
    {
     "name": "stdout",
     "output_type": "stream",
     "text": [
      "([3, 76, 100, 30, 100, 46], [8, 95, 100, 100, 13, 9, 14, 2, 3, 8], [0, 0, 100, 100, 100, 87, 73, 35, 28, 90])\n"
     ]
    },
    {
     "name": "stderr",
     "output_type": "stream",
     "text": [
      "DEBUG:root:get_data returning ([3, 76, 100, 30, 100, 46], [8, 95, 100, 100, 13, 9, 14, 2, 3, 8], [0, 0, 100, 100, 100, 87, 73, 35, 28, 90])\n"
     ]
    },
    {
     "name": "stdout",
     "output_type": "stream",
     "text": [
      "([3, 76, 100, 30, 100, 46], [8, 95, 100, 100, 13, 9, 14, 2, 3, 8], [0, 0, 100, 100, 100, 87, 73, 35, 28, 90])\n"
     ]
    },
    {
     "name": "stderr",
     "output_type": "stream",
     "text": [
      "DEBUG:root:get_data returning ([3, 76, 100, 30, 100, 46], [8, 95, 100, 100, 13, 9, 14, 2, 3, 8], [0, 0, 100, 100, 100, 87, 73, 35, 28, 90])\n"
     ]
    },
    {
     "name": "stdout",
     "output_type": "stream",
     "text": [
      "([3, 76, 100, 30, 100, 46], [8, 95, 100, 100, 13, 9, 14, 2, 3, 8], [0, 0, 100, 100, 100, 87, 73, 35, 28, 90])\n"
     ]
    },
    {
     "name": "stderr",
     "output_type": "stream",
     "text": [
      "DEBUG:root:get_data returning ([3, 76, 100, 30, 100, 46], [8, 95, 100, 100, 13, 9, 14, 2, 3, 8], [0, 0, 100, 100, 100, 87, 73, 35, 28, 90])\n"
     ]
    },
    {
     "name": "stdout",
     "output_type": "stream",
     "text": [
      "([3, 76, 100, 30, 100, 46], [8, 95, 100, 100, 13, 9, 14, 2, 3, 8], [0, 0, 100, 100, 100, 87, 73, 35, 28, 90])\n"
     ]
    },
    {
     "name": "stderr",
     "output_type": "stream",
     "text": [
      "DEBUG:root:get_data returning ([3, 76, 100, 30, 100, 46], [8, 95, 100, 100, 13, 9, 14, 2, 3, 8], [0, 0, 100, 100, 100, 87, 73, 35, 28, 90])\n"
     ]
    },
    {
     "name": "stdout",
     "output_type": "stream",
     "text": [
      "([3, 76, 100, 30, 100, 46], [8, 95, 100, 100, 13, 9, 14, 2, 3, 8], [0, 0, 100, 100, 100, 87, 73, 35, 28, 90])\n"
     ]
    },
    {
     "name": "stderr",
     "output_type": "stream",
     "text": [
      "DEBUG:root:get_data returning ([3, 76, 100, 30, 100, 46], [8, 95, 100, 100, 13, 9, 14, 2, 3, 8], [0, 0, 100, 100, 100, 87, 73, 35, 28, 90])\n"
     ]
    },
    {
     "name": "stdout",
     "output_type": "stream",
     "text": [
      "([3, 76, 100, 30, 100, 46], [8, 95, 100, 100, 13, 9, 14, 2, 3, 8], [0, 0, 100, 100, 100, 87, 73, 35, 28, 90])\n"
     ]
    }
   ],
   "source": [
    "data = radar_capture(10)"
   ]
  },
  {
   "cell_type": "code",
   "execution_count": 11,
   "id": "a2aca6e9-fe67-42e0-9659-b2e61217fd2d",
   "metadata": {},
   "outputs": [
    {
     "name": "stdout",
     "output_type": "stream",
     "text": [
      "([3, 107, 65, 85, 100, 74], [8, 15, 65, 62, 12, 4, 7, 2, 8, 7], [0, 0, 100, 87, 27, 32, 25, 23, 17, 89])\n",
      "([2, 85, 0, 85, 100, 78], [8, 6, 31, 12, 12, 13, 4, 1, 5, 9], [0, 0, 100, 90, 24, 33, 25, 21, 16, 89])\n",
      "([3, 94, 78, 96, 100, 79], [8, 6, 78, 55, 9, 9, 4, 3, 3, 5], [0, 0, 100, 99, 23, 39, 25, 18, 17, 89])\n",
      "([3, 121, 55, 107, 100, 85], [8, 5, 49, 55, 10, 5, 4, 1, 6, 5], [0, 0, 100, 100, 22, 42, 26, 16, 14, 89])\n",
      "([3, 93, 100, 80, 100, 65], [8, 26, 100, 100, 17, 3, 3, 9, 9, 8], [0, 0, 100, 100, 26, 41, 24, 17, 20, 89])\n",
      "([3, 77, 100, 30, 100, 51], [8, 100, 100, 100, 20, 4, 10, 4, 8, 6], [0, 0, 100, 100, 31, 42, 27, 18, 24, 89])\n",
      "([2, 83, 0, 83, 100, 56], [8, 31, 26, 22, 8, 1, 6, 7, 5, 4], [0, 0, 100, 100, 31, 37, 28, 21, 23, 90])\n",
      "([3, 130, 60, 87, 100, 69], [8, 46, 44, 60, 10, 2, 5, 3, 3, 5], [0, 0, 100, 100, 40, 34, 29, 25, 25, 89])\n",
      "([3, 145, 53, 97, 100, 82], [8, 18, 24, 53, 15, 4, 7, 3, 4, 5], [0, 0, 100, 100, 42, 33, 33, 23, 24, 90])\n",
      "([3, 150, 46, 113, 100, 68], [8, 8, 49, 46, 11, 3, 1, 4, 7, 4], [0, 0, 100, 100, 39, 31, 32, 20, 16, 90])\n"
     ]
    }
   ],
   "source": [
    "for d in data:\n",
    "    print(d)"
   ]
  },
  {
   "cell_type": "markdown",
   "id": "160b163b-9100-448c-80b2-7461a45cbbdb",
   "metadata": {},
   "source": [
    "#### Разбор данных содержащихся в одном векотре.\n",
    "\n",
    "Каждый вектор принятый от радара состоит из 3 подвекторов данных содержащих 6, 10 и 10 элементов соответственно:\n",
    "\n",
    "\n",
    "##### Структура вектора данных:\n",
    " ➊ **Target state**  - 0 No Target, 1 Moving, 2 Static, 3 Static + Moving\n",
    " \n",
    " ➋ Movement target distance (cm)\n",
    " \n",
    " ➌ Exercise target energy value  \n",
    " \n",
    " ➍ Stationary target distance (cm) \n",
    " \n",
    " ➎ Stationary target distance (cm)\n",
    " \n",
    " ➏ Detection distance (cm)\n",
    "\n",
    "\n",
    "##### Movement Gate Sensitivities\n",
    "1: назначение неизвестно\n",
    "2-10: Movement distance gate 0 energy value\n",
    "\n",
    "##### Static Gate Sensitivities\n",
    "1-9: Static distance gate 0 energy value\n",
    "10: назначение неизвестно"
   ]
  },
  {
   "cell_type": "markdown",
   "id": "063784be-324a-4906-ae81-c7ccc3783831",
   "metadata": {},
   "source": [
    "#### Визуализируем данные"
   ]
  },
  {
   "cell_type": "code",
   "execution_count": 7,
   "id": "bebfc45a-1e37-407e-8e3f-010fbd78dca2",
   "metadata": {},
   "outputs": [
    {
     "name": "stderr",
     "output_type": "stream",
     "text": [
      "DEBUG:matplotlib:matplotlib data path: C:\\Users\\STEPANJUK\\.conda\\envs\\STEP1\\lib\\site-packages\\matplotlib\\mpl-data\n",
      "DEBUG:matplotlib:CONFIGDIR=C:\\Users\\STEPANJUK\\.matplotlib\n",
      "DEBUG:matplotlib:interactive is False\n",
      "DEBUG:matplotlib:platform is win32\n",
      "DEBUG:matplotlib:CACHEDIR=C:\\Users\\STEPANJUK\\.matplotlib\n",
      "DEBUG:matplotlib.font_manager:Using fontManager instance from C:\\Users\\STEPANJUK\\.matplotlib\\fontlist-v330.json\n"
     ]
    }
   ],
   "source": [
    "from matplotlib import pyplot as plt\n",
    "\n",
    "def imshow(inp, title=None, plt_ax=plt, default=False):\n",
    "    \"\"\"Imshow для тензоров\"\"\"\n",
    "    plt_ax.imshow(inp)\n",
    "    if title is not None:\n",
    "        plt_ax.title(title)\n",
    "    plt_ax.grid(False)\n",
    "\n",
    "def getImage(data):\n",
    "    # Формируем псевдоизображение.\n",
    "    image = []\n",
    "    \n",
    "    # Конвертируем python-список в numpy-массив.\n",
    "    for d in data:\n",
    "        a = np.array(d[0])\n",
    "        b = np.array(d[1])\n",
    "        c = np.array(d[2])\n",
    "        abc = np.concatenate((a, b, c), axis=0)\n",
    "        image.append(abc)\n",
    "        print(abc)\n",
    "\n",
    "    return np.array( image )"
   ]
  },
  {
   "cell_type": "code",
   "execution_count": 14,
   "id": "3c0ba925-2eaf-445c-8cb0-0ae2c2c67286",
   "metadata": {},
   "outputs": [
    {
     "name": "stdout",
     "output_type": "stream",
     "text": [
      "[  3  81 100  79 100  55   8   4 100  56   6   5   1   2   9   3   0   0\n",
      " 100  61  36  38  30  21  18  89]\n",
      "[  2  73   0  73 100  57   8   6  27   5   6   5   7   5   5   5   0   0\n",
      " 100  55  38  31  24  19  18  89]\n",
      "[  2 100   0 100 100  65   8   9  50  38  10   6   4   1   7   7   0   0\n",
      " 100  42  38  36  25  20  17  89]\n",
      "[  2 100   0 100 100  77   8   7  26  21   9   3   2   2   3   3   0   0\n",
      " 100  49  39  39  25  19  17  89]\n",
      "[  3  75 100  60 100  61   8  71 100  68  24   7   8   6   8   4   0   0\n",
      " 100  66  50  38  25  22  16  90]\n",
      "[  3  89  99  78 100  63   8   5  99  57  16   4   9   6   9   1   0   0\n",
      " 100 100  53  46  26  26  20  89]\n",
      "[  3  67 100  70 100  68   8  82 100  55   8   7   3   3   4   3   0   0\n",
      " 100 100  55  45  27  30  26  90]\n",
      "[  3 117  63 103 100  81   8   9  60  63  14  11   2   7   9   2   0   0\n",
      " 100 100  56  34  24  30  27  89]\n",
      "[  2  91   0  91 100  87   8   4  23  21  11   2   7   5   3   2   0   0\n",
      " 100 100  51  32  23  32  27  89]\n",
      "[  3  70  61 120 100  91   8  43  61  38  10   6   5   3   9   4   0   0\n",
      " 100 100  41  29  23  26  24  90]\n"
     ]
    },
    {
     "data": {
      "image/png": "[encoded data removed]",
      "text/plain": [
       "<Figure size 640x480 with 1 Axes>"
      ]
     },
     "metadata": {},
     "output_type": "display_data"
    }
   ],
   "source": [
    "# Получим псевдоизображение.\n",
    "image = getImage(data)\n",
    "# Отобразим псевдоизображение.\n",
    "imshow(image, title=\"LD2410\")"
   ]
  },
  {
   "cell_type": "code",
   "execution_count": null,
   "id": "7fc0b688-7723-4850-b641-40796bc0a619",
   "metadata": {},
   "outputs": [],
   "source": []
  },
  {
   "cell_type": "code",
   "execution_count": null,
   "id": "dd93f35c-44e7-455b-aae2-196572d7093a",
   "metadata": {},
   "outputs": [],
   "source": []
  }
 ],
 "metadata": {
  "kernelspec": {
   "display_name": "Python 3 (ipykernel)",
   "language": "python",
   "name": "python3"
  },
  "language_info": {
   "codemirror_mode": {
    "name": "ipython",
    "version": 3
   },
   "file_extension": ".py",
   "mimetype": "text/x-python",
   "name": "python",
   "nbconvert_exporter": "python",
   "pygments_lexer": "ipython3",
   "version": "3.8.18"
  }
 },
 "nbformat": 4,
 "nbformat_minor": 5
}
